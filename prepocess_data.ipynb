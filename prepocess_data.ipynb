{
 "cells": [
  {
   "cell_type": "code",
   "execution_count": null,
   "metadata": {},
   "outputs": [],
   "source": [
    "import pandas as pd\n",
    "import numpy as np"
   ]
  },
  {
   "cell_type": "code",
   "execution_count": null,
   "metadata": {},
   "outputs": [],
   "source": [
    "# Read data\n",
    "data = pd.read_csv('Data/who_data_new.csv', low_memory=False)\n",
    "\n",
    "# DataFrame clean\n",
    "data = data.drop([0, 1, 2, 3, 4])\n",
    "data = data.drop('Unnamed: 12', axis=1)\n",
    "column_names = ['Region Code', 'Region Name','Country Code', 'Country Name', 'Year', 'Sex', 'Age group code', 'Age Group', 'Number', 'Percentage of cause-specific deaths out of total deaths', 'Age-standardized death rate per 100 000 standard population', 'Death rate per 100 000 population']\n",
    "data.set_axis(column_names, axis=1, inplace=True)\n",
    "data = data.reset_index(drop=True)\n",
    "data = data.drop([0])\n",
    "df = data.copy()\n",
    "df = df.drop('Percentage of cause-specific deaths out of total deaths', axis=1)\n",
    "df = df.drop('Age-standardized death rate per 100 000 standard population', axis=1)\n",
    "df = df.dropna()"
   ]
  },
  {
   "cell_type": "code",
   "execution_count": null,
   "metadata": {},
   "outputs": [],
   "source": [
    "# Preprocess the data and data clean\n",
    "# Group by 'Country Name' and aggregate the 'Number' column using sum\n",
    "merged_df = df.groupby('Country Name').agg({'Region Code': 'first', 'Region Name': 'first',\n",
    "                                            'Country Code': 'first', 'Year': 'first',\n",
    "                                            'Sex': 'first', 'Age group code': 'first',\n",
    "                                            'Age Group': 'first', 'Number': 'sum'}).reset_index()"
   ]
  },
  {
   "cell_type": "code",
   "execution_count": null,
   "metadata": {},
   "outputs": [],
   "source": [
    "# Pivot the DataFrame to create columns for each age group and store numbers in those columns\n",
    "pivoted_df = df.pivot(index=['Region Code', 'Region Name', 'Country Code', 'Country Name', 'Year', 'Sex'],\n",
    "                     columns='Age Group', values='Number').reset_index()\n",
    "\n",
    "# Rename the columns for clarity\n",
    "pivoted_df.columns.name = None  # Remove the column name\n",
    "pivoted_df = pivoted_df.rename(columns={'[All]': 'Age_all', '[0]': 'Age00', '[1-4]': 'Age01_04',\n",
    "                                        '[5-9]': 'Age05_09', '[10-14]': 'Age10_14', '[15-19]': 'Age15_19'})\n",
    "\n",
    "pivoted_df = pivoted_df.dropna()"
   ]
  },
  {
   "cell_type": "code",
   "execution_count": null,
   "metadata": {},
   "outputs": [],
   "source": [
    "# Select rows where 'Sex' column has the value 'All'\n",
    "all_rows = pivoted_df[pivoted_df['Sex'] == 'Male']\n",
    "all_rows.to_csv('mortality_male.csv', index=False)"
   ]
  }
 ],
 "metadata": {
  "language_info": {
   "name": "python"
  },
  "orig_nbformat": 4
 },
 "nbformat": 4,
 "nbformat_minor": 2
}
